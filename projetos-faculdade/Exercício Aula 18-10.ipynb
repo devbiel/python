{
 "cells": [
  {
   "cell_type": "code",
   "execution_count": 16,
   "metadata": {},
   "outputs": [
    {
     "name": "stdout",
     "output_type": "stream",
     "text": [
      "Operações disponíveis\n",
      "+\n",
      "-\n",
      "*\n",
      "/\n",
      "Digite uma das opções para escolher a operação: /\n",
      "Agora digite o primeiro número para a operação: 5\n",
      "Digite o segundo número para a operação: 5\n",
      "Você deseja adicionar um terceiro número para a a operação? s para SIM e n para NÃO: s\n",
      "Digite o terceiro e último número para a operação: 5\n",
      "5 / 5 / 5 é igual a: 0.2\n"
     ]
    }
   ],
   "source": [
    "def calculadora_Dois(x, y):\n",
    "    if choice == '+':\n",
    "        return x + y\n",
    "    elif choice == \"-\":\n",
    "        return x - y\n",
    "    elif choice == \"*\":\n",
    "        return x * y\n",
    "    elif choice == '/':\n",
    "        return x / y\n",
    "    \n",
    "def calculadora_Tres(x, y, z):\n",
    "    if choice == '+':\n",
    "        return x + y + z\n",
    "    elif choice == \"-\":\n",
    "        return x - y - z\n",
    "    elif choice == \"*\":\n",
    "        return x * y * z\n",
    "    elif choice == '/':\n",
    "        return x / y / z\n",
    "    \n",
    "def dois_Argumentos(x, y):\n",
    "    if choice == '+':\n",
    "        print(num1, '+', num2, 'é igual a: {}'.format(calculadora_Dois(num1, num2)))\n",
    "    elif choice == '-':\n",
    "        print(num1, '-', num2, 'é igual a: {}'.format(calculadora_Dois(num1, num2)))\n",
    "    elif choice == '*':\n",
    "        print(num1, '*', num2, 'é igual a: {}'.format(calculadora_Dois(num1, num2)))\n",
    "    elif choice == '/':\n",
    "        print(num1, '/', num2, 'é igual a: {}'.format(calculadora_Dois(num1, num2)))\n",
    "    else:\n",
    "        print('Opção incorreta!')\n",
    "        \n",
    "def tres_Argumentos(x, y, z):\n",
    "    if choice == '+':\n",
    "        print(num1, '+', num2, '+', num3, 'é igual a: {}'.format(calculadora_Tres(num1, num2, num3)))\n",
    "    elif choice == '-':\n",
    "        print(num1, '-', num2, '-', num3, 'é igual a: {}'.format(calculadora_Tres(num1, num2, num3)))\n",
    "    elif choice == '*':\n",
    "        print(num1, '*', num2, '*', num3, 'é igual a: {}'.format(calculadora_Tres(num1, num2, num3)))\n",
    "    elif choice == '/':\n",
    "        print(num1, '/', num2, '/', num3, 'é igual a: {}'.format(calculadora_Tres(num1, num2, num3)))\n",
    "    else:\n",
    "        print('Opção incorreta!')\n",
    "\n",
    "print('Operações disponíveis')\n",
    "print('+')\n",
    "print('-')\n",
    "print('*')\n",
    "print('/')\n",
    "\n",
    "choice = input('Digite uma das opções para escolher a operação: ')\n",
    "num1 = int(input('Agora digite o primeiro número para a operação: '))\n",
    "num2 = int(input('Digite o segundo número para a operação: '))\n",
    "adicional = input('Você deseja adicionar um terceiro número para a a operação? s para SIM e n para NÃO: ')\n",
    "\n",
    "if adicional == 's':\n",
    "    num3 = int(input('Digite o terceiro e último número para a operação: '))\n",
    "    tres_Argumentos(num1, num2, num3)\n",
    "elif adicional == 'n':\n",
    "    dois_Argumentos(num1, num2)\n",
    "else:\n",
    "    print('Opção incorreta!')"
   ]
  },
  {
   "cell_type": "code",
   "execution_count": null,
   "metadata": {},
   "outputs": [],
   "source": []
  }
 ],
 "metadata": {
  "kernelspec": {
   "display_name": "Python 3",
   "language": "python",
   "name": "python3"
  },
  "language_info": {
   "codemirror_mode": {
    "name": "ipython",
    "version": 3
   },
   "file_extension": ".py",
   "mimetype": "text/x-python",
   "name": "python",
   "nbconvert_exporter": "python",
   "pygments_lexer": "ipython3",
   "version": "3.7.3"
  }
 },
 "nbformat": 4,
 "nbformat_minor": 2
}
