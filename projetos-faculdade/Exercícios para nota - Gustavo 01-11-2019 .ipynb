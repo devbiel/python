{
 "cells": [
  {
   "cell_type": "markdown",
   "metadata": {},
   "source": [
    "# 1) Desenvolva um algoritmo que escreve em disco um arquivo com números ordenados crescentemente de 1 a 100. Cada número deve ser separado por “;”. O arquivo deve se chamar “crescente.txt”."
   ]
  },
  {
   "cell_type": "code",
   "execution_count": 32,
   "metadata": {},
   "outputs": [
    {
     "name": "stdout",
     "output_type": "stream",
     "text": [
      "1;2;3;4;5;6;7;8;9;10;11;12;13;14;15;16;17;18;19;20;21;22;23;24;25;26;27;28;29;30;31;32;33;34;35;36;37;38;39;40;41;42;43;44;45;46;47;48;49;50;51;52;53;54;55;56;57;58;59;60;61;62;63;64;65;66;67;68;69;70;71;72;73;74;75;76;77;78;79;80;81;82;83;84;85;86;87;88;89;90;91;92;93;94;95;96;97;98;99;100\n"
     ]
    }
   ],
   "source": [
    "open('crescente.txt', 'w').write(';'.join(list(map(str, list(range(1, 101))))))\n",
    "crescente = open('crescente.txt', 'r')\n",
    "for line in crescente:\n",
    "    print(line)"
   ]
  },
  {
   "cell_type": "markdown",
   "metadata": {},
   "source": [
    "# 2) Desenvolva um algoritmo que escreve em disco um arquivo com números ordenados decrescentemente de 100 a 1. Cada número deve estar em uma linha. O arquivo deve se chamar “decrescente.txt”."
   ]
  },
  {
   "cell_type": "code",
   "execution_count": 33,
   "metadata": {},
   "outputs": [
    {
     "name": "stdout",
     "output_type": "stream",
     "text": [
      "100;99;98;97;96;95;94;93;92;91;90;89;88;87;86;85;84;83;82;81;80;79;78;77;76;75;74;73;72;71;70;69;68;67;66;65;64;63;62;61;60;59;58;57;56;55;54;53;52;51;50;49;48;47;46;45;44;43;42;41;40;39;38;37;36;35;34;33;32;31;30;29;28;27;26;25;24;23;22;21;20;19;18;17;16;15;14;13;12;11;10;9;8;7;6;5;4;3;2;1\n"
     ]
    }
   ],
   "source": [
    "open('decrescente.txt', 'w').write(';'.join(list(map(str, list(range(100, 0, -1))))))\n",
    "decrescente = open('decrescente.txt', 'r')\n",
    "for lines in decrescente:\n",
    "    print(lines)"
   ]
  },
  {
   "cell_type": "markdown",
   "metadata": {},
   "source": [
    "# 1) Desenvolva um programa que cadastra alunos: O programa deve registrar o nome de cada aluno em uma linha do arquivo (não poderá existir nomes repetidos neste cadastro de alunos). \n"
   ]
  },
  {
   "cell_type": "markdown",
   "metadata": {},
   "source": [
    " O usuário deve ter as seguintes opções:\n",
    "# • Cadastrar novo aluno;\n",
    "# • Listar alunos cadastrados;\n",
    "# • Buscar aluno;\n",
    "# • Remover aluno;\n",
    "# • Atualizar o nome de um aluno."
   ]
  },
  {
   "cell_type": "code",
   "execution_count": null,
   "metadata": {},
   "outputs": [
    {
     "name": "stdout",
     "output_type": "stream",
     "text": [
      "||| SISTEMA DE CADASTRO |||\n",
      "1. Cadastrar novo aluno\n",
      "2. Listar alunos cadastrado\n",
      "3. Buscar aluno\n",
      "4. Remover aluno\n",
      "5. Atualizar o nome de um aluno\n",
      "0. Sair\n",
      "\n"
     ]
    }
   ],
   "source": [
    "import re\n",
    "\n",
    "finish = False\n",
    "arquivo = open(\"cadastros.txt\", \"a\")\n",
    "arquivo.close()\n",
    "while (finish == False):\n",
    "    print('||| SISTEMA DE CADASTRO |||')\n",
    "    print('1. Cadastrar novo aluno')\n",
    "    print('2. Listar alunos cadastrado')\n",
    "    print('3. Buscar aluno')\n",
    "    print('4. Remover aluno')\n",
    "    print('5. Atualizar o nome de um aluno')\n",
    "    print(\"0. Sair\")\n",
    "    print()\n",
    "    chosen = input(\"Digite o número da sua opção: \")\n",
    "    if(chosen == str(1)):\n",
    "        nomeAluno = input(\"Digite o nome do aluno a cadastrar: \")\n",
    "        with open(\"cadastros.txt\", \"r\") as arquivo:\n",
    "            lines = arquivo.readlines()\n",
    "            r = re.compile(f\"(^{nomeAluno}(\\\\n)?)$\")\n",
    "            indexToChange = nomeAluno + \"\\n\" in lines\n",
    "            print(indexToChange)\n",
    "        if indexToChange == True:\n",
    "            print(\"O aluno ja foi cadastrado\")\n",
    "        else:\n",
    "            with open(\"cadastros.txt\", \"a\") as arquivo:\n",
    "                arquivo.write(nomeAluno + \"\\n\")\n",
    "                print(\"Aluno cadastrado\")\n",
    "                print()\n",
    "    elif(chosen == str(2)):\n",
    "        with open(\"cadastros.txt\", \"r\") as arquivo:\n",
    "            for line in enumerate(arquivo):\n",
    "                print(line, '\\n')\n",
    "    elif(chosen == str(3)):\n",
    "        buscarNome = input(\"Digite o nome do aluno a buscar: \")\n",
    "        lines = \"\"\n",
    "        newLines = \"\"\n",
    "        indxToChange = 0\n",
    "        with open(\"cadastros.txt\", \"r\") as arquivo:\n",
    "            lines = arquivo.readlines()\n",
    "            r = re.compile(f\"(^{buscarNome}(\\\\n)?)$\")\n",
    "            indexToChange = lines.index(list(filter(r.match, lines))[0])\n",
    "            print()\n",
    "            print(f\"O aluno {buscarNome} foi encontrado na linha {indexToChange + 1}\")\n",
    "    elif(chosen == str(4)):\n",
    "        deletarNome = input(\"Digite o nome do aluno a excluir: \")\n",
    "        lines = \"\"\n",
    "        newLines = \"\"\n",
    "        indxToChange = 0\n",
    "        with open(\"cadastros.txt\", \"r\") as arquivo:\n",
    "            lines = arquivo.readlines()\n",
    "            r = re.compile(f\"(^{deletarNome}(\\\\n)?)$\")\n",
    "            indexToChange = lines.index(list(filter(r.match, lines))[0])\n",
    "        del lines[indexToChange:indexToChange + 1]\n",
    "        with open(\"cadastros.txt\", \"w\") as arquivo:\n",
    "            arquivo.writelines(lines)\n",
    "            print(f\"O aluno: {deletarNome} foi excluído\")\n",
    "            print()\n",
    "    elif(chosen == str(5)):\n",
    "        trocarNome = input(\"Digite o nome do aluno a atualizar: \")\n",
    "        newName = input(\"Agora digite o novo nome: \")\n",
    "        lines = \"\"\n",
    "        indxToChange = 0\n",
    "        with open(\"cadastros.txt\", \"r\") as arquivo:\n",
    "            lines = arquivo.readlines()\n",
    "            r = re.compile(f\"(^{trocarNome}(\\\\n)?)$\")\n",
    "            indexToChange = lines.index(list(filter(r.match, lines))[0])\n",
    "            lines[indexToChange] = newName + \"\\n\"\n",
    "        with open(\"cadastros.txt\", \"w\") as arquivo:\n",
    "            arquivo.writelines(lines)\n",
    "            print(f\"Nome de aluno atualizado para: \", newName)\n",
    "            print()\n",
    "    elif(chosen == str(0)):\n",
    "        print(\"Sistema finalizado!\")\n",
    "        finish = True\n",
    "    else:\n",
    "        print(\"Digitou uma opção válida!\")"
   ]
  }
 ],
 "metadata": {
  "kernelspec": {
   "display_name": "Python 3",
   "language": "python",
   "name": "python3"
  },
  "language_info": {
   "codemirror_mode": {
    "name": "ipython",
    "version": 3
   },
   "file_extension": ".py",
   "mimetype": "text/x-python",
   "name": "python",
   "nbconvert_exporter": "python",
   "pygments_lexer": "ipython3",
   "version": "3.7.3"
  }
 },
 "nbformat": 4,
 "nbformat_minor": 2
}
