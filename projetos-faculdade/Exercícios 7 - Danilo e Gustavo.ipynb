{
 "cells": [
  {
   "cell_type": "markdown",
   "metadata": {},
   "source": [
    "# Exercício 1"
   ]
  },
  {
   "cell_type": "code",
   "execution_count": 2,
   "metadata": {},
   "outputs": [
    {
     "name": "stdout",
     "output_type": "stream",
     "text": [
      "O time que fez mais falta é a: Itália sendo 16 faltas.\n",
      "O time que fez menos falta é o: Brasil e a Itália sendo 15 faltas.\n",
      "O total de faltar é de: 46\n"
     ]
    }
   ],
   "source": [
    "placar = [['Brasil', 'Italia', [10, 9]], ['Brasil', 'Espanha', [5, 7]], ['Italia', 'Espanha',[7,8]]]\n",
    "brasil = placar[0][2][0] + placar[1][2][0]\n",
    "italia = placar[0][2][1] + placar[2][2][0]\n",
    "espanha = placar[1][2][1] + placar[2][2][1]\n",
    "\n",
    "mais_falta = max(brasil, espanha, italia)\n",
    "menos_falta = min(brasil, espanha, italia)\n",
    "\n",
    "if mais_falta == brasil:\n",
    "    print('O time que fez mais falta é o: {} sendo {} faltas.'.format('Brasil', mais_falta))\n",
    "elif mais_falta == italia:\n",
    "    print('O time que fez mais falta é a: {} sendo {} faltas.'.format('Itália', mais_falta))\n",
    "else:\n",
    "    print('O time que fez mais falta é a: {} sendo {} faltas.'.format('Espanha', mais_falta))\n",
    "    \n",
    "if menos_falta == brasil and italia:\n",
    "    print('O time que fez menos falta é o: {} e a {} sendo {} faltas.'.format('Brasil', 'Itália', menos_falta))\n",
    "elif menos_falta == brasil and espanha:\n",
    "    print('O time que fez menos falta é o: {} e a {} sendo {} faltas.'.format('Brasil', 'Espanha', menos_falta))\n",
    "elif menos_falta == italia and espanha:\n",
    "    print('O time que fez menos falta é a: {} e a {} sendo {} faltas.'.format('Itália', 'Espanha', menos_falta))\n",
    "print('O total de faltas é de: {}'.format(brasil + italia + espanha))"
   ]
  },
  {
   "cell_type": "markdown",
   "metadata": {},
   "source": [
    "# Exercício 2"
   ]
  },
  {
   "cell_type": "code",
   "execution_count": 3,
   "metadata": {},
   "outputs": [
    {
     "name": "stdout",
     "output_type": "stream",
     "text": [
      "Valor abaixo da média 2.5\n",
      "Valor abaixo da média 4.0\n",
      "Lista = [2.5, 7.5, 10.0, 4.0]\n",
      "Média = 6.0\n"
     ]
    }
   ],
   "source": [
    "lista = [2.5, 7.5, 10.0, 4.0]\n",
    "somar = 0\n",
    "for i in lista:\n",
    "    somar = somar + i\n",
    "    calc = somar / 4\n",
    "    if i < 6:\n",
    "        print('Valor abaixo da média {}'.format(i))\n",
    "print('Lista = {}'.format(lista))\n",
    "print('Média = {}'.format(calc))"
   ]
  },
  {
   "cell_type": "markdown",
   "metadata": {},
   "source": [
    "# Exercício 3"
   ]
  },
  {
   "cell_type": "code",
   "execution_count": 2,
   "metadata": {},
   "outputs": [
    {
     "name": "stdout",
     "output_type": "stream",
     "text": [
      "[1, 10, 2, 20, 3, 30, 4, 40, 50, 60]\n"
     ]
    }
   ],
   "source": [
    "def intercala(lista1, lista2):\n",
    "    intercalada = []\n",
    "    for a,b in zip(lista1, lista2):\n",
    "        intercalada.append(a)\n",
    "        intercalada.append(b)\n",
    "    return intercalada\n",
    "\n",
    "lista1 = [1, 2, 3, 4]\n",
    "lista2 = [10, 20, 30, 40, 50, 60]\n",
    "\n",
    "lista_intercalada = intercala(lista1, lista2)\n",
    "lista_intercalada.append(50)\n",
    "lista_intercalada.append(60)\n",
    "\n",
    "print(lista_intercalada)"
   ]
  },
  {
   "cell_type": "markdown",
   "metadata": {},
   "source": [
    "# Exercício 4"
   ]
  },
  {
   "cell_type": "code",
   "execution_count": 6,
   "metadata": {},
   "outputs": [
    {
     "name": "stdout",
     "output_type": "stream",
     "text": [
      "O mais econômico é o Vectra sendo 9km\n",
      "O Fit gasta 80 Litros o que custará R$1000, para atingir 1000Km\n",
      "O Corsa gasta 91 Litros o que custará R$1001, para atingir 1001Km\n",
      "O Gol gasta 100 Litros o que custará R$1000, para atingir 1000Km\n",
      "O Vectra gasta 111 Litros o que custará R$388, para atingir 999Km\n"
     ]
    }
   ],
   "source": [
    "carros = [['Vectra', 9], ['Gol',10], ['Corsa', 11], ['Fit', 12.5]]\n",
    "\n",
    "economia = {'Vectra': carros[0][1],\n",
    "            'Gol': carros[1][1],\n",
    "            'Corsa': carros[2][1],\n",
    "            'Fit': carros[3][1]\n",
    "           }\n",
    "mais_economico = min(economia['Vectra'], economia['Gol'], economia['Corsa'], economia['Fit'])\n",
    "\n",
    "if mais_economico == economia['Vectra']:\n",
    "    print('O mais econômico é o {} sendo {}km'.format('Vectra', mais_economico))\n",
    "elif mais_economico == economia['Gol']:\n",
    "    print('O mais econômico é o {} sendo {}km'.format('Gol', mais_economico))\n",
    "elif mais_economico == economia['Corsa']:\n",
    "    print('O mais econômico é o {} sendo {}km'.format('Corsa', mais_economico))\n",
    "else:\n",
    "    print('O mais econômico é o {} sendo {}km'.format('Fit', mais_economico))\n",
    "    \n",
    "km = list(range(0,120))\n",
    "\n",
    "for i in km:\n",
    "        km_vectra = 9*i\n",
    "        km_gol = 10*i\n",
    "        km_corsa = 11*i\n",
    "        km_fit = int(12.5*i)\n",
    "        if km_vectra >= 999 and km_vectra <= 1001:\n",
    "            print('O Vectra gasta {} Litros o que custará R${:.0f}, para atingir {}Km'.format(i, 3.50*i, km_vectra))\n",
    "        if km_gol >= 999 and km_gol <= 1005:\n",
    "            print('O Gol gasta {} Litros o que custará R${:.0f}, para atingir {}Km'.format(i, 10*i, km_gol))\n",
    "        if km_corsa >= 999 and km_corsa <= 1005:\n",
    "            print('O Corsa gasta {} Litros o que custará R${:.0f}, para atingir {}Km'.format(i, 11*i, km_corsa))\n",
    "        if km_fit >= 999 and km_fit <= 1005:\n",
    "            print('O Fit gasta {} Litros o que custará R${:.0f}, para atingir {}Km'.format(i, 12.5*i, km_fit))"
   ]
  }
 ],
 "metadata": {
  "kernelspec": {
   "display_name": "Python 3",
   "language": "python",
   "name": "python3"
  },
  "language_info": {
   "codemirror_mode": {
    "name": "ipython",
    "version": 3
   },
   "file_extension": ".py",
   "mimetype": "text/x-python",
   "name": "python",
   "nbconvert_exporter": "python",
   "pygments_lexer": "ipython3",
   "version": "3.7.3"
  }
 },
 "nbformat": 4,
 "nbformat_minor": 2
}
